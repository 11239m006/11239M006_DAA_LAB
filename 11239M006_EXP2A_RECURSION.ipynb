{
  "nbformat": 4,
  "nbformat_minor": 0,
  "metadata": {
    "colab": {
      "provenance": [],
      "authorship_tag": "ABX9TyNWXDnXOfmgNu3tBLqQ7mJ1",
      "include_colab_link": true
    },
    "kernelspec": {
      "name": "python3",
      "display_name": "Python 3"
    },
    "language_info": {
      "name": "python"
    }
  },
  "cells": [
    {
      "cell_type": "markdown",
      "metadata": {
        "id": "view-in-github",
        "colab_type": "text"
      },
      "source": [
        "<a href=\"https://colab.research.google.com/github/11239m006/11239M006_DAA_LAB/blob/main/11239M006_EXP2A_RECURSION.ipynb\" target=\"_parent\"><img src=\"https://colab.research.google.com/assets/colab-badge.svg\" alt=\"Open In Colab\"/></a>"
      ]
    },
    {
      "cell_type": "code",
      "execution_count": 1,
      "metadata": {
        "colab": {
          "base_uri": "https://localhost:8080/"
        },
        "id": "8-ZEEHQ5jX6u",
        "outputId": "b78c0f43-4f02-4a8b-b6ae-c16bad0e1c25"
      },
      "outputs": [
        {
          "output_type": "stream",
          "name": "stdout",
          "text": [
            "enter n:5\n",
            "[0, 1, 1, 2, 3]\n"
          ]
        }
      ],
      "source": [
        "def fibonacci(n,a=0,b=1):\n",
        "  if n<=0:\n",
        "    return[]\n",
        "  return [a]+fibonacci(n-1,b,a+b)\n",
        "n=int(input(\"enter n:\"))\n",
        "result=fibonacci(n)\n",
        "print(result)"
      ]
    }
  ]
}